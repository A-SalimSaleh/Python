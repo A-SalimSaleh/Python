{
 "cells": [
  {
   "cell_type": "markdown",
   "id": "43d0e9f9-f189-497b-b566-4b5e425845d5",
   "metadata": {},
   "source": [
    "BMI CALCULATOR\n",
    "https://www.calculatorsoup.com/calculators/health/bmi-calculator.php"
   ]
  },
  {
   "cell_type": "code",
   "execution_count": null,
   "id": "cf45173f-1f32-44eb-9f25-c591a5b8c3e7",
   "metadata": {},
   "outputs": [],
   "source": [
    "name = input(\"Enter your name: \")\n",
    "\n",
    "weight = int(input(\"Enter your weight in pounds: \"))\n",
    "\n",
    "height =int(input(\"Enter your height in inches: \"))\n",
    "\n",
    "BMI = (weight * 703) / (height * height)\n",
    "\n",
    "print(BMI)\n",
    "\n",
    "if BMI > 0:\n",
    "    if(BMI < 16.0):\n",
    "        print(name +\", you are severely underweight\")\n",
    "    elif (BMI <= 18.4):\n",
    "        print(name +\", you are underweight\")\n",
    "    elif (BMI < 24.9):\n",
    "        print(name +\", you are normal weight\")\n",
    "    elif (BMI < 29.9):\n",
    "        print(name +\", you are overweight\")\n",
    "    elif (BMI < 34.9):\n",
    "        print(name+\", you are moderately obese\")\n",
    "    elif (BMI < 39.9):\n",
    "        print(name +\", you are severely obese\")\n",
    "    else:\n",
    "        print(name +\", you are morbidly obese\")\n",
    "else:\n",
    "    print(\"Enter valid input\")\n",
    "    \n",
    "\n"
   ]
  },
  {
   "cell_type": "code",
   "execution_count": null,
   "id": "57e288cc-5189-437f-9026-6c2fcf088955",
   "metadata": {},
   "outputs": [],
   "source": []
  },
  {
   "cell_type": "code",
   "execution_count": null,
   "id": "11aa738f-6d7d-45c8-9671-19ca6d7cf140",
   "metadata": {},
   "outputs": [],
   "source": []
  }
 ],
 "metadata": {
  "kernelspec": {
   "display_name": "Python [conda env:base] *",
   "language": "python",
   "name": "conda-base-py"
  },
  "language_info": {
   "codemirror_mode": {
    "name": "ipython",
    "version": 3
   },
   "file_extension": ".py",
   "mimetype": "text/x-python",
   "name": "python",
   "nbconvert_exporter": "python",
   "pygments_lexer": "ipython3",
   "version": "3.12.7"
  }
 },
 "nbformat": 4,
 "nbformat_minor": 5
}
